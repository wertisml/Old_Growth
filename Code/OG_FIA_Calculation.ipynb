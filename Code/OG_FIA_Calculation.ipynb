{
 "cells": [
  {
   "cell_type": "code",
   "execution_count": 171,
   "id": "20d884da-7612-483a-bf39-b6e69145bc71",
   "metadata": {
    "execution": {
     "iopub.execute_input": "2024-02-20T17:49:59.841095Z",
     "iopub.status.busy": "2024-02-20T17:49:59.839547Z",
     "iopub.status.idle": "2024-02-20T17:49:59.878265Z",
     "shell.execute_reply": "2024-02-20T17:49:59.865748Z"
    }
   },
   "outputs": [],
   "source": [
    "library(sf)\n",
    "library(tidyverse)\n",
    "library(data.table)\n",
    "library(terra)\n",
    "library(parallel)\n",
    "library(future)\n",
    "library(arrow)"
   ]
  },
  {
   "cell_type": "code",
   "execution_count": 394,
   "id": "ea1db13b-118f-4e9f-99fb-ffe273ce017b",
   "metadata": {
    "execution": {
     "iopub.execute_input": "2024-02-28T15:43:09.617632Z",
     "iopub.status.busy": "2024-02-28T15:43:09.616180Z",
     "iopub.status.idle": "2024-02-28T15:43:10.525003Z",
     "shell.execute_reply": "2024-02-28T15:43:10.523081Z"
    }
   },
   "outputs": [
    {
     "name": "stderr",
     "output_type": "stream",
     "text": [
      "\u001b[1mRows: \u001b[22m\u001b[34m43\u001b[39m \u001b[1mColumns: \u001b[22m\u001b[34m9\u001b[39m\n",
      "\u001b[36m──\u001b[39m \u001b[1mColumn specification\u001b[22m \u001b[36m──────────────────────────────────\u001b[39m\n",
      "\u001b[1mDelimiter:\u001b[22m \",\"\n",
      "\u001b[31mchr\u001b[39m (3): OG_Type, FIA_Code, Habitat_Type_Group\n",
      "\u001b[32mdbl\u001b[39m (6): region, Forest_Region, Age, Large_Tree_Diameter, Stand_Basal_Area, ...\n",
      "\n",
      "\u001b[36mℹ\u001b[39m Use `spec()` to retrieve the full column specification for this data.\n",
      "\u001b[36mℹ\u001b[39m Specify the column types or set `show_col_types = FALSE` to quiet this message.\n"
     ]
    }
   ],
   "source": [
    "setwd(\"/gpfs/data1/vclgp/wertisl/R_Code/MOG\")\n",
    "\n",
    "FS_Region <- 1\n",
    "Sub_Region <- \".2\"\n",
    "\n",
    "cond <- open_dataset('Files/PLot_and_Cond_Regions.parquet') %>% \n",
    "  filter(REGION == paste0(\"0\",FS_Region,Sub_Region),\n",
    "         FORTYPCD != 999) %>%\n",
    "  collect() %>%\n",
    "  arrange(cuid, desc(MEASYEAR), sum(!is.na(.))) %>%\n",
    "  group_by(cuid) %>%\n",
    "  slice(1) %>%\n",
    "  ungroup()\n",
    "\n",
    "defs <- read_csv(paste0(\"Files/Region_\",FS_Region,\".csv\")) %>%\n",
    "  filter(Forest_Region == paste0(FS_Region,Sub_Region))\n",
    "\n",
    "Region <- function(Region_Number){\n",
    "  source(paste0(\"Code/Region_\",Region_Number,\"_OG.R\"))\n",
    "}\n",
    "\n",
    "Region(FS_Region)\n"
   ]
  },
  {
   "cell_type": "code",
   "execution_count": 395,
   "id": "648c4c8e-0f85-4ffc-9e2c-ffd11178caaf",
   "metadata": {
    "execution": {
     "iopub.execute_input": "2024-02-28T15:43:10.529200Z",
     "iopub.status.busy": "2024-02-28T15:43:10.527914Z",
     "iopub.status.idle": "2024-02-28T15:43:17.077172Z",
     "shell.execute_reply": "2024-02-28T15:43:17.072750Z"
    }
   },
   "outputs": [],
   "source": [
    "plan(multisession, workers = 12)\n",
    "\n",
    "tt <- open_dataset(\"Files/Trees.parquet\") %>%\n",
    "  filter(PLT_CN %in% cond$PLT_CN) %>%\n",
    "  collect() %>%\n",
    "  mutate(Status = ifelse(STATUSCD == 1, \"Live\", \n",
    "                         ifelse(STATUSCD == 2, \"Dead\", NA)),\n",
    "         Downed_Dead = ifelse(STANDING_DEAD_CD == 0, \"Downed\", \n",
    "                              ifelse(STANDING_DEAD_CD == 1, \"Standing\", \"Live\")),\n",
    "         BA = (DIA * abs(DIA) * 0.005454)) %>%\n",
    "  dplyr::select(-STATUSCD, -STANDING_DEAD_CD) "
   ]
  },
  {
   "cell_type": "code",
   "execution_count": 396,
   "id": "4967f1df-7b96-4770-b164-8ef522936820",
   "metadata": {
    "execution": {
     "iopub.execute_input": "2024-02-28T15:43:17.083472Z",
     "iopub.status.busy": "2024-02-28T15:43:17.081595Z",
     "iopub.status.idle": "2024-02-28T15:43:17.102233Z",
     "shell.execute_reply": "2024-02-28T15:43:17.100153Z"
    }
   },
   "outputs": [],
   "source": [
    "# function to classify cond based on X number of trees larger than Y inches and Z stand age\n",
    "  classify_cond <- function(x,tree){\n",
    "    # get this condition and its corresponding row in the definitions df\n",
    "    ccc <- cond %>% filter(cuid == x)\n",
    "    idx <- which(grepl(ccc$FORTYPCD, defs$FIA_Code)) \n",
    "    if(length(idx)==0){return(NULL)}\n",
    "    \n",
    "    # get tree table just for this plot\n",
    "    tree <- tree %>% \n",
    "      filter(cuid == x) %>% \n",
    "      group_by(cuid)\n",
    "      if(nrow(tree)==0){return(NULL)}\n",
    "    \n",
    "    t <- lapply(X=idx, FUN=classify_mog, tree=tree, ccc=ccc) %>% rbindlist %>% data.frame() \n",
    "    #types <- paste(sort(t$community_abb), collapse=' ')\n",
    "    ## Option 1: keep classifications from all community groups this fortypcd is associated with\n",
    "    # foo <- pivot_wider(t, id_cols=cuid, names_from=community_abb, values_from = contains('class'), names_sort = T) \n",
    "    ## Option 2: keep classifications for community group that have the most OG/mature occurances\n",
    "    oo <- t %>%\n",
    "      #mutate(abbs = types) %>% # Abreviation of the tree type\n",
    "      rowwise() %>%\n",
    "      mutate(n_old = sum(c_across(contains('class')) == TRUE, na.rm = T)) %>% \n",
    "      group_by(cuid) %>% # For some reason in my method of doing this cuid isn ot kept\n",
    "      # When multiple FIA codes work, the oldest is selected\n",
    "      filter(n_old == max(n_old)) %>% \n",
    "      filter(row_number()==1)\n",
    "    \n",
    "    return(oo)\n",
    "    \n",
    "}"
   ]
  },
  {
   "cell_type": "code",
   "execution_count": 397,
   "id": "c097b265-a307-44bf-86d2-c6481f787e97",
   "metadata": {
    "execution": {
     "iopub.execute_input": "2024-02-28T15:43:17.107567Z",
     "iopub.status.busy": "2024-02-28T15:43:17.105649Z",
     "iopub.status.idle": "2024-02-28T15:45:15.238768Z",
     "shell.execute_reply": "2024-02-28T15:45:15.236209Z"
    }
   },
   "outputs": [],
   "source": [
    "res <- mclapply(X=cond$cuid, FUN=classify_cond, mc.cores = 12, tree=tt) %>% rbindlist(fill = TRUE) %>% as.data.frame()\n",
    "\n",
    "out <- cond %>% \n",
    "  left_join(res, by='cuid') %>%\n",
    "  rowwise() %>%\n",
    "  mutate(Old_Growth = if_else(all(c_across(contains('class'))), \"Old Growth\", NA))\n",
    "\n",
    "plan(sequential)"
   ]
  },
  {
   "cell_type": "code",
   "execution_count": 398,
   "id": "916396cd-ecee-4893-b5f2-c482d4904177",
   "metadata": {
    "execution": {
     "iopub.execute_input": "2024-02-28T15:45:15.243544Z",
     "iopub.status.busy": "2024-02-28T15:45:15.242029Z",
     "iopub.status.idle": "2024-02-28T15:45:15.291405Z",
     "shell.execute_reply": "2024-02-28T15:45:15.289589Z"
    }
   },
   "outputs": [],
   "source": [
    "out_name <- paste0('Files/Region',FS_Region,Sub_Region,'.parquet')\n",
    "write_parquet(out,out_name)"
   ]
  },
  {
   "cell_type": "code",
   "execution_count": null,
   "id": "8d4555d0-1d11-48b7-be2f-f4978f4608a5",
   "metadata": {},
   "outputs": [],
   "source": []
  }
 ],
 "metadata": {
  "kernelspec": {
   "display_name": "R",
   "language": "R",
   "name": "ir"
  },
  "language_info": {
   "codemirror_mode": "r",
   "file_extension": ".r",
   "mimetype": "text/x-r-source",
   "name": "R",
   "pygments_lexer": "r",
   "version": "4.3.1"
  }
 },
 "nbformat": 4,
 "nbformat_minor": 5
}
